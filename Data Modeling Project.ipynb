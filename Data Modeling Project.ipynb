{
 "cells": [
  {
   "cell_type": "code",
   "execution_count": null,
   "id": "3a097e20",
   "metadata": {},
   "outputs": [],
   "source": [
    "!pip install pandas"
   ]
  },
  {
   "cell_type": "code",
   "execution_count": null,
   "id": "b8159b5a",
   "metadata": {},
   "outputs": [],
   "source": [
    "import psycopg2\n",
    "import pandas as pd"
   ]
  },
  {
   "cell_type": "code",
   "execution_count": null,
   "id": "553dfb02",
   "metadata": {},
   "outputs": [],
   "source": [
    "def create_databse():\n",
    "    \n",
    "    #connect to default db\n",
    "    conn= psycopg2.connect(\"host= 127.0.0.1 dbname= postgres user= postgres password= root\")\n",
    "    conn.set_session(autocommit= True)\n",
    "    cur= conn.cursor()\n",
    "    \n",
    "    #create db\n",
    "    cur.execute(\"Drop database IF EXISTS airbnb\")\n",
    "    \n",
    "    cur.execute(\"create database deforestation\")\n",
    "    \n",
    "    #close connection with default db\n",
    "    conn.close()\n",
    "    \n",
    "    #connect to created db\n",
    "    conn= psycopg2.connect(\"host= 127.0.0.1 dbname= deforestation user= postgres password= root\")\n",
    "    conn.set_session(autocommit= True)\n",
    "    cur= conn.cursor()\n",
    "    \n",
    "    return cur, conn"
   ]
  },
  {
   "cell_type": "code",
   "execution_count": null,
   "id": "2aadf4eb",
   "metadata": {},
   "outputs": [],
   "source": [
    "cur, conn = create_databse()"
   ]
  },
  {
   "cell_type": "code",
   "execution_count": null,
   "id": "d005a21d",
   "metadata": {},
   "outputs": [],
   "source": [
    "deforest_df= pd.read_csv(\"D:/project/Deforestation data/forest_area (1).csv\")"
   ]
  },
  {
   "cell_type": "code",
   "execution_count": null,
   "id": "64540575",
   "metadata": {},
   "outputs": [],
   "source": [
    "filter1 = deforest_df[\"country_code\"]==\"ABW\"\n",
    "deforest_df.where(filter1)"
   ]
  },
  {
   "cell_type": "code",
   "execution_count": null,
   "id": "d9e7cd11",
   "metadata": {},
   "outputs": [],
   "source": [
    "airbnb_df[['no of people rated tbd', 'tbd']]= airbnb_df.no_of_people_rated.str.split(\")\",expand=True)"
   ]
  },
  {
   "cell_type": "code",
   "execution_count": null,
   "id": "617b5f3b",
   "metadata": {},
   "outputs": [],
   "source": [
    "#comments_df.head()\n",
    "airbnb_df.rename(columns= {'Title': 'listing_title', 'Detail': 'listing_detail',\\\n",
    "                                                'Date': 'created_date', 'Price(in dollar)': 'listing_price',\\\n",
    "                                                'Offer price(in dollar)': 'listing_offer_price',\\\n",
    "                                                'review and rating': 'listing_review_rating',\\\n",
    "                                                'Number of bed': 'number_of_bed',\\\n",
    "                                                'no of people rated tbd': 'no_of_people_rated'}, inplace=True)\n"
   ]
  },
  {
   "cell_type": "code",
   "execution_count": null,
   "id": "4215dc0a",
   "metadata": {},
   "outputs": [],
   "source": [
    "airbnb_df.drop(['tbd'], axis=1, inplace = True)"
   ]
  },
  {
   "cell_type": "code",
   "execution_count": null,
   "id": "ea7ac831",
   "metadata": {},
   "outputs": [],
   "source": [
    "deforest_table_create=(\"\"\"Create Table If Not Exists forest_area(\n",
    "country_code VARCHAR,\n",
    "country_name VARCHAR,\n",
    "year INT,\n",
    "forest_area_sqkm DECIMAL)\n",
    "\"\"\")"
   ]
  },
  {
   "cell_type": "code",
   "execution_count": null,
   "id": "a96872ab",
   "metadata": {},
   "outputs": [],
   "source": [
    "cur.execute(deforest_table_create)"
   ]
  },
  {
   "cell_type": "code",
   "execution_count": null,
   "id": "d24d24e1",
   "metadata": {},
   "outputs": [],
   "source": [
    "deforest_df2= pd.read_csv(\"D:/project/Deforestation data/land_area (1).csv\")"
   ]
  },
  {
   "cell_type": "code",
   "execution_count": null,
   "id": "9cc4b692",
   "metadata": {},
   "outputs": [],
   "source": [
    "deforest_table2_create=(\"\"\"Create Table If Not Exists land_area(\n",
    "country_code VARCHAR,\n",
    "country_name VARCHAR,\n",
    "year INT,\n",
    "total_area_sq_mi DECIMAL)\n",
    "\"\"\")"
   ]
  },
  {
   "cell_type": "code",
   "execution_count": null,
   "id": "d7f765b7",
   "metadata": {},
   "outputs": [],
   "source": [
    "cur.execute(deforest_table2_create)"
   ]
  },
  {
   "cell_type": "code",
   "execution_count": null,
   "id": "7a00b50c",
   "metadata": {},
   "outputs": [],
   "source": [
    "deforest_df3= pd.read_csv(\"D:/project/Deforestation data/regions (1).csv\")"
   ]
  },
  {
   "cell_type": "code",
   "execution_count": null,
   "id": "8e30e2d3",
   "metadata": {},
   "outputs": [],
   "source": [
    "deforest_table3_create=(\"\"\"Create Table If Not Exists regions(\n",
    "country_name VARCHAR,\n",
    "country_code VARCHAR,\n",
    "region VARCHAR,\n",
    "income_group VARCHAR)\n",
    "\"\"\")"
   ]
  },
  {
   "cell_type": "code",
   "execution_count": null,
   "id": "3d5d7f4c",
   "metadata": {},
   "outputs": [],
   "source": [
    "cur.execute(deforest_table3_create)"
   ]
  },
  {
   "cell_type": "code",
   "execution_count": null,
   "id": "2697cd26",
   "metadata": {},
   "outputs": [],
   "source": [
    "deforest_table_insert= (\"\"\"Insert Into forest_area(\n",
    "country_code,\n",
    "country_name,\n",
    "year,\n",
    "forest_area_sqkm)\n",
    "VALUES(%s, %s, %s, %s)\"\"\")"
   ]
  },
  {
   "cell_type": "code",
   "execution_count": null,
   "id": "6669fff7",
   "metadata": {},
   "outputs": [],
   "source": [
    "for i, row in deforest_df.iterrows():\n",
    "    cur.execute(deforest_table_insert, list(row))"
   ]
  },
  {
   "cell_type": "code",
   "execution_count": null,
   "id": "ac313c90",
   "metadata": {},
   "outputs": [],
   "source": [
    "for i, row in deforest_df.iterrows():\n",
    "    print(list(row))"
   ]
  },
  {
   "cell_type": "code",
   "execution_count": null,
   "id": "63313399",
   "metadata": {},
   "outputs": [],
   "source": [
    "cur.execute(\"Select * from forest_area\")"
   ]
  },
  {
   "cell_type": "code",
   "execution_count": null,
   "id": "7d62a96d",
   "metadata": {},
   "outputs": [],
   "source": [
    "deforest_table2_insert= (\"\"\"Insert Into land_area(\n",
    "country_code,\n",
    "country_name,\n",
    "year,\n",
    "total_area_sq_mi)\n",
    "VALUES(%s, %s, %s, %s)\"\"\")"
   ]
  },
  {
   "cell_type": "code",
   "execution_count": null,
   "id": "002c35c7",
   "metadata": {},
   "outputs": [],
   "source": [
    "for i, row in deforest_df2.iterrows():\n",
    "    cur.execute(deforest_table2_insert, list(row))"
   ]
  },
  {
   "cell_type": "code",
   "execution_count": null,
   "id": "79d6da15",
   "metadata": {},
   "outputs": [],
   "source": [
    "deforest_table3_insert= (\"\"\"Insert Into regions(\n",
    "country_name,\n",
    "country_code,\n",
    "region,\n",
    "income_group)\n",
    "VALUES(%s, %s, %s, %s)\"\"\")"
   ]
  },
  {
   "cell_type": "code",
   "execution_count": null,
   "id": "10090777",
   "metadata": {},
   "outputs": [],
   "source": [
    "for i, row in deforest_df3.iterrows():\n",
    "    cur.execute(deforest_table3_insert, list(row))"
   ]
  },
  {
   "cell_type": "code",
   "execution_count": null,
   "id": "4a43ab0a",
   "metadata": {},
   "outputs": [],
   "source": [
    "post_table_create=(\"\"\"Create Table If Not Exists reddit_post(\n",
    "type VARCHAR,\n",
    "id VARCHAR PRIMARY KEY,\n",
    "subreddit_id VARCHAR,\n",
    "subreddit_name VARCHAR,\n",
    "title VARCHAR,\n",
    "score INT\n",
    ")\"\"\")"
   ]
  },
  {
   "cell_type": "code",
   "execution_count": null,
   "id": "73c05b53",
   "metadata": {},
   "outputs": [],
   "source": [
    "cur.execute(post_table_create)"
   ]
  },
  {
   "cell_type": "code",
   "execution_count": null,
   "id": "5ba0d848",
   "metadata": {},
   "outputs": [],
   "source": [
    "posts_table_insert= (\"\"\"Insert Into reddit_post(\n",
    "type,\n",
    "id,\n",
    "subreddit_id,\n",
    "subreddit_name,\n",
    "title,\n",
    "score)\n",
    "VALUES(%s, %s, %s, %s, %s, %s)\"\"\")"
   ]
  },
  {
   "cell_type": "code",
   "execution_count": null,
   "id": "38bc16a1",
   "metadata": {},
   "outputs": [],
   "source": [
    "for i, row in posts_clean_df.iterrows():\n",
    "    cur.execute(posts_table_insert, list(row))"
   ]
  }
 ],
 "metadata": {
  "kernelspec": {
   "display_name": "Python 3 (ipykernel)",
   "language": "python",
   "name": "python3"
  },
  "language_info": {
   "codemirror_mode": {
    "name": "ipython",
    "version": 3
   },
   "file_extension": ".py",
   "mimetype": "text/x-python",
   "name": "python",
   "nbconvert_exporter": "python",
   "pygments_lexer": "ipython3",
   "version": "3.9.7"
  }
 },
 "nbformat": 4,
 "nbformat_minor": 5
}

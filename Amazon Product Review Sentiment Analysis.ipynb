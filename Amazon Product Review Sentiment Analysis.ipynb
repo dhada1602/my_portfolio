{
 "cells": [
  {
   "cell_type": "code",
   "execution_count": 3,
   "id": "be0f5547",
   "metadata": {},
   "outputs": [
    {
     "name": "stdout",
     "output_type": "stream",
     "text": [
      "Collecting nltk\n",
      "  Downloading nltk-3.8.1-py3-none-any.whl (1.5 MB)\n",
      "     ---------------------------------------- 0.0/1.5 MB ? eta -:--:--\n",
      "     ---------------------------------------- 0.0/1.5 MB ? eta -:--:--\n",
      "     - -------------------------------------- 0.1/1.5 MB 825.8 kB/s eta 0:00:02\n",
      "     ---- ----------------------------------- 0.2/1.5 MB 1.5 MB/s eta 0:00:01\n",
      "     ---------- ----------------------------- 0.4/1.5 MB 2.3 MB/s eta 0:00:01\n",
      "     ------------- -------------------------- 0.5/1.5 MB 2.4 MB/s eta 0:00:01\n",
      "     ---------------- ----------------------- 0.6/1.5 MB 2.3 MB/s eta 0:00:01\n",
      "     --------------------- ------------------ 0.8/1.5 MB 2.5 MB/s eta 0:00:01\n",
      "     -------------------------- ------------- 1.0/1.5 MB 2.9 MB/s eta 0:00:01\n",
      "     --------------------------------- ------ 1.3/1.5 MB 3.1 MB/s eta 0:00:01\n",
      "     -------------------------------------- - 1.4/1.5 MB 3.3 MB/s eta 0:00:01\n",
      "     ---------------------------------------- 1.5/1.5 MB 3.1 MB/s eta 0:00:00\n",
      "Collecting regex>=2021.8.3\n",
      "  Downloading regex-2023.12.25-cp39-cp39-win_amd64.whl (269 kB)\n",
      "     ---------------------------------------- 0.0/269.5 kB ? eta -:--:--\n",
      "     ---------------------------- --------- 204.8/269.5 kB 6.3 MB/s eta 0:00:01\n",
      "     -------------------------------------- 269.5/269.5 kB 4.2 MB/s eta 0:00:00\n",
      "Requirement already satisfied: click in c:\\users\\divya\\anaconda3\\lib\\site-packages (from nltk) (8.0.4)\n",
      "Requirement already satisfied: tqdm in c:\\users\\divya\\anaconda3\\lib\\site-packages (from nltk) (4.65.0)\n",
      "Collecting joblib\n",
      "  Downloading joblib-1.3.2-py3-none-any.whl (302 kB)\n",
      "     ---------------------------------------- 0.0/302.2 kB ? eta -:--:--\n",
      "     --------------- ---------------------- 122.9/302.2 kB 2.4 MB/s eta 0:00:01\n",
      "     ------------------------- ------------ 204.8/302.2 kB 3.1 MB/s eta 0:00:01\n",
      "     -------------------------------------- 302.2/302.2 kB 2.3 MB/s eta 0:00:00\n",
      "Requirement already satisfied: colorama in c:\\users\\divya\\anaconda3\\lib\\site-packages (from click->nltk) (0.4.6)\n",
      "Installing collected packages: regex, joblib, nltk\n",
      "Successfully installed joblib-1.3.2 nltk-3.8.1 regex-2023.12.25\n",
      "Note: you may need to restart the kernel to use updated packages.\n"
     ]
    }
   ],
   "source": [
    "pip install nltk"
   ]
  },
  {
   "cell_type": "code",
   "execution_count": 4,
   "id": "23f747ed",
   "metadata": {},
   "outputs": [
    {
     "name": "stderr",
     "output_type": "stream",
     "text": [
      "[nltk_data] Downloading package vader_lexicon to\n",
      "[nltk_data]     C:\\Users\\DIVYA\\AppData\\Roaming\\nltk_data...\n"
     ]
    }
   ],
   "source": [
    "import pandas as pd\n",
    "import seaborn as sns\n",
    "import matplotlib.pyplot as plt\n",
    "import nltk\n",
    "nltk.downloader.download('vader_lexicon')\n",
    "from nltk.sentiment.vader import SentimentIntensityAnalyzer\n",
    "sentiments = SentimentIntensityAnalyzer()"
   ]
  },
  {
   "cell_type": "code",
   "execution_count": 8,
   "id": "b1063abc",
   "metadata": {},
   "outputs": [],
   "source": [
    "data = pd.read_csv(\"C:/Users/DIVYA/Downloads/amazon_reviews/amazon_reviews.csv\")"
   ]
  },
  {
   "cell_type": "code",
   "execution_count": 9,
   "id": "f4dc80d6",
   "metadata": {},
   "outputs": [
    {
     "name": "stdout",
     "output_type": "stream",
     "text": [
      "   Unnamed: 0  reviewerName  overall  \\\n",
      "0           0           NaN      4.0   \n",
      "1           1          0mie      5.0   \n",
      "2           2           1K3      4.0   \n",
      "3           3           1m2      5.0   \n",
      "4           4  2&amp;1/2Men      5.0   \n",
      "\n",
      "                                          reviewText  reviewTime  day_diff  \\\n",
      "0                                         No issues.  2014-07-23       138   \n",
      "1  Purchased this for my device, it worked as adv...  2013-10-25       409   \n",
      "2  it works as expected. I should have sprung for...  2012-12-23       715   \n",
      "3  This think has worked out great.Had a diff. br...  2013-11-21       382   \n",
      "4  Bought it with Retail Packaging, arrived legit...  2013-07-13       513   \n",
      "\n",
      "   helpful_yes  helpful_no  total_vote  score_pos_neg_diff  \\\n",
      "0            0           0           0                   0   \n",
      "1            0           0           0                   0   \n",
      "2            0           0           0                   0   \n",
      "3            0           0           0                   0   \n",
      "4            0           0           0                   0   \n",
      "\n",
      "   score_average_rating  wilson_lower_bound  \n",
      "0                   0.0                 0.0  \n",
      "1                   0.0                 0.0  \n",
      "2                   0.0                 0.0  \n",
      "3                   0.0                 0.0  \n",
      "4                   0.0                 0.0  \n"
     ]
    }
   ],
   "source": [
    "print(data.head())"
   ]
  },
  {
   "cell_type": "code",
   "execution_count": 10,
   "id": "d1a1d0be",
   "metadata": {},
   "outputs": [
    {
     "name": "stdout",
     "output_type": "stream",
     "text": [
      "        Unnamed: 0      overall     day_diff  helpful_yes   helpful_no  \\\n",
      "count  4915.000000  4915.000000  4915.000000  4915.000000  4915.000000   \n",
      "mean   2457.000000     4.587589   437.367040     1.311089     0.210376   \n",
      "std    1418.982617     0.996845   209.439871    41.619161     4.023296   \n",
      "min       0.000000     1.000000     1.000000     0.000000     0.000000   \n",
      "25%    1228.500000     5.000000   281.000000     0.000000     0.000000   \n",
      "50%    2457.000000     5.000000   431.000000     0.000000     0.000000   \n",
      "75%    3685.500000     5.000000   601.000000     0.000000     0.000000   \n",
      "max    4914.000000     5.000000  1064.000000  1952.000000   183.000000   \n",
      "\n",
      "        total_vote  score_pos_neg_diff  score_average_rating  \\\n",
      "count  4915.000000         4915.000000           4915.000000   \n",
      "mean      1.521465            1.100712              0.075468   \n",
      "std      44.123095           39.367949              0.256062   \n",
      "min       0.000000         -130.000000              0.000000   \n",
      "25%       0.000000            0.000000              0.000000   \n",
      "50%       0.000000            0.000000              0.000000   \n",
      "75%       0.000000            0.000000              0.000000   \n",
      "max    2020.000000         1884.000000              1.000000   \n",
      "\n",
      "       wilson_lower_bound  \n",
      "count         4915.000000  \n",
      "mean             0.020053  \n",
      "std              0.077187  \n",
      "min              0.000000  \n",
      "25%              0.000000  \n",
      "50%              0.000000  \n",
      "75%              0.000000  \n",
      "max              0.957544  \n"
     ]
    }
   ],
   "source": [
    "print(data.describe())"
   ]
  },
  {
   "cell_type": "code",
   "execution_count": 11,
   "id": "d4b72088",
   "metadata": {},
   "outputs": [],
   "source": [
    "data = data.dropna()"
   ]
  },
  {
   "cell_type": "code",
   "execution_count": 15,
   "id": "1f93a277",
   "metadata": {},
   "outputs": [
    {
     "name": "stdout",
     "output_type": "stream",
     "text": [
      "   Unnamed: 0  reviewerName  overall  \\\n",
      "1           1          0mie      5.0   \n",
      "2           2           1K3      4.0   \n",
      "3           3           1m2      5.0   \n",
      "4           4  2&amp;1/2Men      5.0   \n",
      "5           5       2Cents!      5.0   \n",
      "\n",
      "                                          reviewText  reviewTime  day_diff  \\\n",
      "1  Purchased this for my device, it worked as adv...  2013-10-25       409   \n",
      "2  it works as expected. I should have sprung for...  2012-12-23       715   \n",
      "3  This think has worked out great.Had a diff. br...  2013-11-21       382   \n",
      "4  Bought it with Retail Packaging, arrived legit...  2013-07-13       513   \n",
      "5  It's mini storage.  It doesn't do anything els...  2013-04-29       588   \n",
      "\n",
      "   helpful_yes  helpful_no  total_vote  score_pos_neg_diff  \\\n",
      "1            0           0           0                   0   \n",
      "2            0           0           0                   0   \n",
      "3            0           0           0                   0   \n",
      "4            0           0           0                   0   \n",
      "5            0           0           0                   0   \n",
      "\n",
      "   score_average_rating  wilson_lower_bound  \n",
      "1                   0.0                 0.0  \n",
      "2                   0.0                 0.0  \n",
      "3                   0.0                 0.0  \n",
      "4                   0.0                 0.0  \n",
      "5                   0.0                 0.0  \n"
     ]
    }
   ],
   "source": [
    "print(data.head())"
   ]
  },
  {
   "cell_type": "code",
   "execution_count": 21,
   "id": "47fd05df",
   "metadata": {},
   "outputs": [],
   "source": [
    "data.rename(columns={'overall': 'Score'}, inplace= True)"
   ]
  },
  {
   "cell_type": "code",
   "execution_count": 22,
   "id": "c4f33fd3",
   "metadata": {},
   "outputs": [],
   "source": [
    "ratings = data[\"Score\"].value_counts()"
   ]
  },
  {
   "cell_type": "code",
   "execution_count": 23,
   "id": "fd744dc7",
   "metadata": {},
   "outputs": [
    {
     "name": "stdout",
     "output_type": "stream",
     "text": [
      "5.0    3921\n",
      "4.0     526\n",
      "1.0     244\n",
      "3.0     142\n",
      "2.0      80\n",
      "Name: Score, dtype: int64\n"
     ]
    }
   ],
   "source": [
    "print(ratings)"
   ]
  },
  {
   "cell_type": "code",
   "execution_count": 24,
   "id": "e13a05f5",
   "metadata": {},
   "outputs": [
    {
     "data": {
      "image/png": "[encoded data removed]",
      "text/plain": [
       "<Figure size 1000x800 with 1 Axes>"
      ]
     },
     "metadata": {},
     "output_type": "display_data"
    }
   ],
   "source": [
    "numbers = ratings.index\n",
    "quantity = ratings.values\n",
    "\n",
    "custom_colors = [\"skyblue\", \"yellowgreen\", 'tomato', \"blue\", \"red\"]\n",
    "plt.figure(figsize=(10, 8))\n",
    "plt.pie(quantity, labels=numbers, colors=custom_colors)\n",
    "central_circle = plt.Circle((0, 0), 0.5, color='white')\n",
    "fig = plt.gcf()\n",
    "fig.gca().add_artist(central_circle)\n",
    "plt.rc('font', size=12)\n",
    "plt.title(\"Distribution of Amazon Product Ratings\", fontsize=20)\n",
    "plt.show()"
   ]
  },
  {
   "cell_type": "code",
   "execution_count": 26,
   "id": "0a7a749c",
   "metadata": {},
   "outputs": [
    {
     "name": "stdout",
     "output_type": "stream",
     "text": [
      "   Unnamed: 0  reviewerName  Score  \\\n",
      "1           1          0mie    5.0   \n",
      "2           2           1K3    4.0   \n",
      "3           3           1m2    5.0   \n",
      "4           4  2&amp;1/2Men    5.0   \n",
      "5           5       2Cents!    5.0   \n",
      "\n",
      "                                          reviewText  reviewTime  day_diff  \\\n",
      "1  Purchased this for my device, it worked as adv...  2013-10-25       409   \n",
      "2  it works as expected. I should have sprung for...  2012-12-23       715   \n",
      "3  This think has worked out great.Had a diff. br...  2013-11-21       382   \n",
      "4  Bought it with Retail Packaging, arrived legit...  2013-07-13       513   \n",
      "5  It's mini storage.  It doesn't do anything els...  2013-04-29       588   \n",
      "\n",
      "   helpful_yes  helpful_no  total_vote  score_pos_neg_diff  \\\n",
      "1            0           0           0                   0   \n",
      "2            0           0           0                   0   \n",
      "3            0           0           0                   0   \n",
      "4            0           0           0                   0   \n",
      "5            0           0           0                   0   \n",
      "\n",
      "   score_average_rating  wilson_lower_bound  Positive  Negative  Neutral  \n",
      "1                   0.0                 0.0     0.000     0.075    0.925  \n",
      "2                   0.0                 0.0     0.000     0.077    0.923  \n",
      "3                   0.0                 0.0     0.091     0.000    0.909  \n",
      "4                   0.0                 0.0     0.127     0.038    0.835  \n",
      "5                   0.0                 0.0     0.000     0.000    1.000  \n"
     ]
    }
   ],
   "source": [
    "sentiments = SentimentIntensityAnalyzer()\n",
    "data[\"Positive\"] = [sentiments.polarity_scores(i)[\"pos\"] for i in data[\"reviewText\"]]\n",
    "data[\"Negative\"] = [sentiments.polarity_scores(i)[\"neg\"] for i in data[\"reviewText\"]]\n",
    "data[\"Neutral\"] = [sentiments.polarity_scores(i)[\"neu\"] for i in data[\"reviewText\"]]\n",
    "print(data.head())"
   ]
  },
  {
   "cell_type": "code",
   "execution_count": 27,
   "id": "68fe6858",
   "metadata": {},
   "outputs": [
    {
     "name": "stdout",
     "output_type": "stream",
     "text": [
      "Neutral 🙂 \n"
     ]
    }
   ],
   "source": [
    "x = sum(data[\"Positive\"])\n",
    "y = sum(data[\"Negative\"])\n",
    "z = sum(data[\"Neutral\"])\n",
    "\n",
    "def sentiment_score(a, b, c):\n",
    "    if (a>b) and (a>c):\n",
    "        print(\"Positive 😊 \")\n",
    "    elif (b>a) and (b>c):\n",
    "        print(\"Negative 😠 \")\n",
    "    else:\n",
    "        print(\"Neutral 🙂 \")\n",
    "sentiment_score(x, y, z)"
   ]
  },
  {
   "cell_type": "code",
   "execution_count": null,
   "id": "2165f204",
   "metadata": {},
   "outputs": [],
   "source": [
    "#So, most people are neutral when submitting their experiences with the products they have purchased from Amazon. \n",
    "#Now let’s see the total of all sentiment scores:"
   ]
  },
  {
   "cell_type": "code",
   "execution_count": 29,
   "id": "125dbb5c",
   "metadata": {},
   "outputs": [
    {
     "name": "stdout",
     "output_type": "stream",
     "text": [
      "Positive:  765.5469999999979\n",
      "Negative:  219.70400000000006\n",
      "Neutral:  3927.775999999992\n"
     ]
    }
   ],
   "source": [
    "print(\"Positive: \", x)\n",
    "print(\"Negative: \", y)\n",
    "print(\"Neutral: \", z)"
   ]
  },
  {
   "cell_type": "code",
   "execution_count": null,
   "id": "81b9e7f3",
   "metadata": {},
   "outputs": [],
   "source": [
    "#So we can say that most of the reviews of the products available on Amazon are positive,\n",
    "#as the total sentiment scores of Positive and Neural are much higher than Negative scores."
   ]
  }
 ],
 "metadata": {
  "kernelspec": {
   "display_name": "Python 3 (ipykernel)",
   "language": "python",
   "name": "python3"
  },
  "language_info": {
   "codemirror_mode": {
    "name": "ipython",
    "version": 3
   },
   "file_extension": ".py",
   "mimetype": "text/x-python",
   "name": "python",
   "nbconvert_exporter": "python",
   "pygments_lexer": "ipython3",
   "version": "3.9.7"
  }
 },
 "nbformat": 4,
 "nbformat_minor": 5
}
